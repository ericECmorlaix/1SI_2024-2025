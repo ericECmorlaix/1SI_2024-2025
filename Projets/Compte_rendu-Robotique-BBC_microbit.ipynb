{
 "cells": [
  {
   "attachments": {},
   "cell_type": "markdown",
   "metadata": {
    "hidden": true,
    "slideshow": {
     "slide_type": "subslide"
    }
   },
   "source": [
    "## Applications de robotique avec BBC micro:bit :\n",
    "\n",
    "> CF :\n",
    ">\n",
    ">- [La robotique](https://ericecmorlaix.github.io/1SI_2024-2025/Projets/Robotique)\n",
    ">- [Programmation d'un BBC micro:bit](https://ericecmorlaix.github.io/adn-Tutoriel_lab_si/IOT/BBC_microbit/)\n",
    "\n",
    "<center><img src=\"https://ericecmorlaix.github.io/img/bbcmicrobit.gif\" width=\"70%\"></center>"
   ]
  },
  {
   "cell_type": "markdown",
   "metadata": {
    "heading_collapsed": true,
    "slideshow": {
     "slide_type": "slide"
    }
   },
   "source": [
    "Le point de vue du programmeur en robotique concerne l'unité de traitement, un ordinateur à carte unique, une carte à microcontroleur, qui reçoit des informations électriques en **entrées** et en émet en **sortie** :\n",
    "\n",
    "<center><img src=\"https://ericecmorlaix.github.io/img/traiter.svg\" width=\"50%\"></center>\n",
    "\n",
    "\n"
   ]
  },
  {
   "cell_type": "code",
   "execution_count": null,
   "metadata": {
    "hidden": true,
    "slideshow": {
     "slide_type": "fragment"
    }
   },
   "outputs": [],
   "source": [
    "from microbit import *"
   ]
  },
  {
   "cell_type": "markdown",
   "metadata": {
    "hidden": true,
    "slideshow": {
     "slide_type": "subslide"
    }
   },
   "source": [
    "### Sortie logique, Tout Ou Rien (TOR), digital output :"
   ]
  },
  {
   "cell_type": "markdown",
   "metadata": {},
   "source": [
    "#### Application `Hello World !` spécial robotique\n",
    "\n",
    "- **programmer** l'allumage alternatif d'une LED raccordée à la sortie `P0` à la fréquence de 1Hz."
   ]
  },
  {
   "cell_type": "code",
   "execution_count": null,
   "metadata": {},
   "outputs": [],
   "source": [
    "# Votre programme "
   ]
  },
  {
   "cell_type": "markdown",
   "metadata": {},
   "source": [
    "##### Limiter le courant dans la LED\n",
    "\n",
    "- Sachant que la sortie P0 délivre au maximum une tension de 3,3V, **calculer** la résistance R1 minimale afin de limiter le courant dans la LED à 20mA pour une tension de 2V à ses bornes."
   ]
  },
  {
   "cell_type": "markdown",
   "metadata": {},
   "source": [
    "`Votre réponse...`"
   ]
  },
  {
   "cell_type": "markdown",
   "metadata": {},
   "source": [
    "- La valeur réelle retenue pour la résistance R1 est ici de 220 Ohms, en **déduire** l'intensité du courant dans la LED."
   ]
  },
  {
   "cell_type": "markdown",
   "metadata": {},
   "source": [
    "`Votre réponse...`"
   ]
  },
  {
   "cell_type": "markdown",
   "metadata": {
    "hidden": true,
    "slideshow": {
     "slide_type": "subslide"
    }
   },
   "source": [
    "### Sortie pseudo-analogique, Modulation de Largeur d'Impulsion (MLI), Pulse Width Modulation (PWM), analog output :"
   ]
  },
  {
   "cell_type": "markdown",
   "metadata": {
    "hidden": true,
    "slideshow": {
     "slide_type": "-"
    }
   },
   "source": [
    "#### Application : variation d'intensité\n",
    "\n",
    "- Pour la LED raccordée à la sortie `P0`, **programmer** un allumage progressif en intensité sur 5 secondes à partir de l'initialisation de la carte ( = une rampe de démarrage). Puis la LED s'éteint instantannément après 6 secondes."
   ]
  },
  {
   "cell_type": "code",
   "execution_count": null,
   "metadata": {},
   "outputs": [],
   "source": [
    "# Votre programme"
   ]
  },
  {
   "cell_type": "markdown",
   "metadata": {},
   "source": [
    "### Piloter des Moteurs\n",
    "\n",
    "#### Application : piloter un moteur\n",
    "\n",
    "- **Enficher** une carte BBC micro:bit dans un [Bit:Bot](https://4tronix.co.uk/blog/?p=2317){target=_blank}, un [Robot:Bit MK3](https://4tronix.co.uk/blog/?p=1832){target=_blank} ou une carte [Motor:Bit](https://ericecmorlaix.github.io/adn-Tutoriel_lab_si/IOT/BBC_microbit/MotorBit/){target=_blank} afin de **programmer** une séquence de rotation du moteur gauche pour une durée de 2 secondes vers l'avant puis 2 seconde vers l'arrière à une vistesse \"moyenne\"."
   ]
  },
  {
   "cell_type": "code",
   "execution_count": null,
   "metadata": {},
   "outputs": [],
   "source": [
    "# Votre programme"
   ]
  },
  {
   "cell_type": "code",
   "execution_count": null,
   "metadata": {},
   "outputs": [],
   "source": [
    "# Votre programme complété avec les fonctions "
   ]
  },
  {
   "cell_type": "markdown",
   "metadata": {},
   "source": [
    "#### Application : piloter deux moteurs\n",
    "\n",
    "- **Rechercher** dans la documentation du [Bit:Bot](https://4tronix.co.uk/blog/?p=2317){target=_blank}, du [Robot:Bit MK3](https://4tronix.co.uk/blog/?p=1832){target=_blank} ou de la carte [Motor:Bit](https://ericecmorlaix.github.io/adn-Tutoriel_lab_si/IOT/BBC_microbit/MotorBit/){target=_blank} les n° de broches permettant de piloter le moteur de droite afin de **compléter** votre programme pour faire avancer puis reculer le robot alternativement pour une durée de 2 secondes à vitesse \"moyenne\"."
   ]
  },
  {
   "cell_type": "code",
   "execution_count": null,
   "metadata": {},
   "outputs": [],
   "source": [
    "# Votre programme"
   ]
  },
  {
   "cell_type": "markdown",
   "metadata": {},
   "source": [
    "#### Application : tourner\n",
    "\n",
    "- **Ajouter** de nouvelles fonctions ou **modifier** les précédentes pour que votre robot puisse aussi tourner à droite comme à gauche selon un programme."
   ]
  },
  {
   "cell_type": "code",
   "execution_count": null,
   "metadata": {},
   "outputs": [],
   "source": [
    "# Votre programme complété avec les fonctions "
   ]
  },
  {
   "cell_type": "code",
   "execution_count": null,
   "metadata": {},
   "outputs": [],
   "source": [
    "# Votre programme complété de commentaires\n",
    "\n",
    "from microbit import *\n",
    "\n",
    "    # ...\n",
    "    def piloter(gaughe,droite) :\n",
    "        # ...\n",
    "        pin8.write_digital(0)\n",
    "        pin12.write_digital(0)\n",
    "        # ...\n",
    "        if gauche < 0 :\n",
    "            pin8.write_digital(1)\n",
    "            gauche = 1023 + gauche\n",
    "        # ...\n",
    "        if droite < 0 :\n",
    "            pin12.write_digital(1)\n",
    "            droite = 1023 + droite\n",
    "        # ...\n",
    "        pin0.write_analog(gauche)\n",
    "        pin1.write_analog(droite)\n",
    "        \n",
    "    while True:\n",
    "        # ... \n",
    "        pilote(800,800)\n",
    "        sleep(1000)\n",
    "        # ...\n",
    "        pilote(0,0)\n",
    "        sleep(1000)\n",
    "        # ...\n",
    "        pilote(-800,-800)\n",
    "        sleep(1000)\n",
    "        # ... \n",
    "        pilote(0,0)\n",
    "        sleep(1000)\n",
    "        # ...\n",
    "        pilote(400,800)\n",
    "        sleep(1000)\n",
    "        # ...\n",
    "        pilote(0,0)\n",
    "        sleep(1000)\n",
    "        # ...\n",
    "        pilote(800,0)\n",
    "        sleep(1000)"
   ]
  },
  {
   "cell_type": "markdown",
   "metadata": {},
   "source": [
    "### Entrée logique\n",
    "\n",
    "#### Application : ...\n",
    "\n",
    "- **Raccorder** une LED sur la sortie P0 et **programmer** l'intensité de son allumage par paliers progressifs de sorte que quatres impulsions successives sur l'entrée A conduisent à l'éclairage maximal. Tandis qu'une impulsion sur le bouton B provoque l'extinction totale de la LED."
   ]
  },
  {
   "cell_type": "code",
   "execution_count": null,
   "metadata": {},
   "outputs": [],
   "source": [
    "# Votre programme"
   ]
  },
  {
   "cell_type": "markdown",
   "metadata": {},
   "source": [
    "### Entrée analogique\n",
    "\n",
    "#### Application : ...\n",
    "\n",
    "- **Raccorder**  une LED sur la sortie P0 et un potentiomètre sur l'entrée P1 et **programmer** le niveau d'intensité lumineuse de la LED selon le réglage de la position du potentiomètre..."
   ]
  },
  {
   "cell_type": "code",
   "execution_count": null,
   "metadata": {},
   "outputs": [],
   "source": [
    "# Votre programme"
   ]
  },
  {
   "cell_type": "markdown",
   "metadata": {},
   "source": [
    "### Interface Homme Machine\n",
    "\n",
    "#### Application : diriger un robot roulant\n",
    "\n",
    "- **Enficher** une carte BBC micro:bit dans un [Bit:Bot](https://4tronix.co.uk/blog/?p=2317){target=_blank} ou un [Robot:Bit MK3](https://4tronix.co.uk/blog/?p=1832){target=_blank} afin de **programmer** le robot pour qu'il avance en tournant à gauche si l'on appuie sur le bouton A, qu'il avance en tournant à droite si l'on appuie sur le bouton B, qu'il avance tout droit si l'on appuie à la fois sur les boutons A et B."
   ]
  },
  {
   "cell_type": "code",
   "execution_count": null,
   "metadata": {},
   "outputs": [],
   "source": [
    "# Votre programme"
   ]
  },
  {
   "cell_type": "markdown",
   "metadata": {},
   "source": [
    "#### Manette"
   ]
  },
  {
   "cell_type": "code",
   "execution_count": null,
   "metadata": {},
   "outputs": [],
   "source": [
    "# Votre programme complété de commentaires\n",
    "\n",
    "# ...\n",
    "    from microbit import *\n",
    "    import music\n",
    "    import neopixel\n",
    "\n",
    "    # ...\n",
    "    leds_colorees = neopixel.NeoPixel(pin13, 6)\n",
    "\n",
    "    # ... \n",
    "    rouge = (64,0,0)\n",
    "    vert = (0,64,0)\n",
    "    bleu = (0,0,64)\n",
    "    noir = (0,0,0)\n",
    "\n",
    "    # ... \n",
    "    def allumer_toutes(couleur):\n",
    "        for led in range(0, len(leds_colorees)):\n",
    "            leds_colorees[led] = couleur\n",
    "        leds_colorees.show()\n",
    "\n",
    "    # ...  \n",
    "    def balayer(couleur, duree):\n",
    "        for led in range(0, len(leds_colorees)):\n",
    "            leds_colorees[led] = couleur\n",
    "            leds_colorees.show()\n",
    "            sleep(duree)\n",
    "\n",
    "    # ...\n",
    "    def lire_joystick():\n",
    "        return pin1.read_analog(), pin2.read_analog(), pin8.read_digital()\n",
    "\n",
    "    # ...\n",
    "    def lire_pad():\n",
    "        # rouge, bleu, vert, jaune\n",
    "        broches_pad = [pin12,pin15,pin14,pin16]\n",
    "        return [broche.read_digital() for broche in broches_pad]\n",
    "\n",
    "    # ...\n",
    "    def lire_potentiometre():    \n",
    "        return pin0.read_analog()\n",
    "\n",
    "    # ...\n",
    "    def play_tune():\n",
    "        music.play(music.BADDY)\n",
    "        pin0.read_digital()\n",
    "\n",
    "    # ...    \n",
    "    allumer_toutes(rouge)\n",
    "\n",
    "    # ...\n",
    "    play_tune()\n",
    "\n",
    "    # ...\n",
    "    balayer(bleu,250)\n",
    "\n",
    "    # ...\n",
    "    while True:\n",
    "        x,y,j = lire_joystick()\n",
    "        boutons = lire_pad()\n",
    "        potentiel = lire_potentiometre()\n",
    "        print(x,y, j, boutons, potentiel) # Où peut-on visualiser cet affichage ?\n",
    "        sleep(20)"
   ]
  },
  {
   "cell_type": "markdown",
   "metadata": {},
   "source": [
    "### Communication avec BBC micro:bit"
   ]
  },
  {
   "cell_type": "code",
   "execution_count": null,
   "metadata": {},
   "outputs": [],
   "source": [
    "# Vos programmes complétés de commentaires"
   ]
  },
  {
   "cell_type": "markdown",
   "metadata": {
    "slideshow": {
     "slide_type": "slide"
    }
   },
   "source": [
    "### Prolongement :\n",
    "\n",
    "- Développer d'autres programmes en lien avec votre projet..."
   ]
  },
  {
   "cell_type": "code",
   "execution_count": null,
   "metadata": {},
   "outputs": [],
   "source": [
    "# Votre programme "
   ]
  },
  {
   "cell_type": "code",
   "execution_count": null,
   "metadata": {},
   "outputs": [],
   "source": [
    "# Votre programme "
   ]
  },
  {
   "cell_type": "code",
   "execution_count": null,
   "metadata": {},
   "outputs": [],
   "source": [
    "# Votre programme "
   ]
  },
  {
   "cell_type": "markdown",
   "metadata": {
    "hidden": true,
    "slideshow": {
     "slide_type": "subslide"
    }
   },
   "source": [
    "## Humour :\n",
    "\n",
    "Aujourd'hui c'est robologie :\n",
    "- http://tumourrasmoinsbete.blogspot.com/search/label/robot"
   ]
  },
  {
   "cell_type": "markdown",
   "metadata": {
    "hidden": true,
    "slideshow": {
     "slide_type": "fragment"
    }
   },
   "source": [
    "<a rel=\"license\" href=\"http://creativecommons.org/licenses/by-sa/4.0/\"><img alt=\"Licence Creative Commons\" style=\"border-width:0\" src=\"https://i.creativecommons.org/l/by-sa/4.0/88x31.png\" /></a><br />Ce document est mis à disposition selon les termes de la <a rel=\"license\" href=\"http://creativecommons.org/licenses/by-sa/4.0/\">Licence Creative Commons Attribution -  Partage dans les Mêmes Conditions 4.0 International</a>.\n",
    "\n",
    "Pour toute question, suggestion ou commentaire : <a href=\"mailto:eric.madec@ecmorlaix.fr\">eric.madec@ecmorlaix.fr</a>"
   ]
  }
 ],
 "metadata": {
  "_draft": {
   "nbviewer_url": "https://gist.github.com/d4f650def7e5d57276f1b1124e97f549"
  },
  "celltoolbar": "Aucun(e)",
  "gist": {
   "data": {
    "description": "Documents/DU_ESNSI/S3/Untitled.ipynb",
    "public": true
   },
   "id": "d4f650def7e5d57276f1b1124e97f549"
  },
  "kernelspec": {
   "display_name": "Python 3",
   "language": "python",
   "name": "python3"
  },
  "language_info": {
   "codemirror_mode": {
    "name": "ipython",
    "version": 3
   },
   "file_extension": ".py",
   "mimetype": "text/x-python",
   "name": "python",
   "nbconvert_exporter": "python",
   "pygments_lexer": "ipython3",
   "version": "3.8.5"
  },
  "toc": {
   "base_numbering": 1,
   "nav_menu": {},
   "number_sections": true,
   "sideBar": true,
   "skip_h1_title": false,
   "title_cell": "Table of Contents",
   "title_sidebar": "Contents",
   "toc_cell": false,
   "toc_position": {
    "height": "calc(100% - 180px)",
    "left": "10px",
    "top": "150px",
    "width": "256px"
   },
   "toc_section_display": true,
   "toc_window_display": false
  },
  "varInspector": {
   "cols": {
    "lenName": 16,
    "lenType": 16,
    "lenVar": 40
   },
   "kernels_config": {
    "python": {
     "delete_cmd_postfix": "",
     "delete_cmd_prefix": "del ",
     "library": "var_list.py",
     "varRefreshCmd": "print(var_dic_list())"
    },
    "r": {
     "delete_cmd_postfix": ") ",
     "delete_cmd_prefix": "rm(",
     "library": "var_list.r",
     "varRefreshCmd": "cat(var_dic_list()) "
    }
   },
   "types_to_exclude": [
    "module",
    "function",
    "builtin_function_or_method",
    "instance",
    "_Feature"
   ],
   "window_display": false
  }
 },
 "nbformat": 4,
 "nbformat_minor": 4
}
