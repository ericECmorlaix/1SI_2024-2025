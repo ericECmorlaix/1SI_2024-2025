{
 "cells": [
  {
   "cell_type": "markdown",
   "metadata": {
    "slideshow": {
     "slide_type": "slide"
    }
   },
   "source": [
    "# Les circuits électriques  :\n",
    "\n",
    "> **Objectif** : Prendre en main le logiciel de modélisation et de simulation OpenModelica afin de mettre en évidence des lois électriques..."
   ]
  },
  {
   "attachments": {},
   "cell_type": "markdown",
   "metadata": {},
   "source": [
    "## Grandeurs électriques :\n",
    "\n",
    "<hr style=\"border-color: mediumseagreen\">\n",
    "<h3 class='fa fa-graduation-cap' style=\"color: mediumseagreen\"> A faire vous-même n° 0 :</h3>\n",
    "\n",
    "Lire le document [Circuits_Electriques-Introduction.pdf](https://ericecmorlaix.github.io/1SI_2022-2023/EL/Circuits_Electriques-Introduction.pdf) et relever quelles sont les grandeurs de flux et d'effort dans un circuit électrique ; Décrire les méthodes pour mesurer ces grandeurs et préciser leur unité respective :\n",
    "\n",
    "- ...\n",
    "\n",
    "- ...\n",
    "\n",
    "<hr style=\"border-color: mediumseagreen\">"
   ]
  },
  {
   "cell_type": "markdown",
   "metadata": {},
   "source": [
    "## Lois électriques :\n",
    "\n",
    "\n",
    "### Lois de comportement d'un résistor :\n",
    "\n",
    "Un résistor de **résistance $R$** est un dipôle qui permet de modifier l'intensité du courant qui traverse un circuit électrique. La résistance R se mesure en **ohms ($\\Omega$)**.\n",
    "\n",
    "<hr style=\"border-color: darkorange\">\n",
    "<h3 class='fa fa-cogs' style=\"color: darkorange\"> A faire vous-même n° 1 :</h3>\n",
    "\n",
    "- Modéliser le circuit électrique ci-dessous afin d'obtenir après simulation les tracés suivants : \n",
    "\n",
    "<img src=\"https://ericecmorlaix.github.io/img/CircuitElec-Resistor.svg\" alt=\"CircuitElec-Resistor.svg\">\n",
    "\n",
    "<img src=\"https://ericecmorlaix.github.io/img/CircuitElec-ResistorCourbes.svg\" alt=\"CircuitElec-ResistorCourbes.svg\" width=80%>\n",
    "\n",
    "<hr style=\"border-color: darkorange\">"
   ]
  },
  {
   "cell_type": "markdown",
   "metadata": {},
   "source": [
    "On appelle caractéristique externe d'un dipôle, la représentation graphique de la fonction $f$ définie par $U = f(I)$ (la caractéristique peut dans ce cas être appelée caractéristique externe tension-courant).\n",
    "\n",
    "**Remarque :** Dans certains cas, on utilise la représentation graphique de $g$ définie par $I = g(U)$ (caractéristique externe courant-tension).\n",
    "\n",
    "<hr style=\"border-color: darkorange\">\n",
    "<h3 class='fa fa-cogs' style=\"color: darkorange\"> A faire vous-même n° 2:</h3>\n",
    "\n",
    "- Définir la fonction $U = f(I)$ qui caratérise le résistor R1 :\n",
    "\n",
    "....\n",
    "\n",
    "- Comment nomme-t-on cette loi :\n",
    "\n",
    "...\n",
    "\n",
    "- Tracer sa représentation graphique :\n",
    "\n",
    "<img src=\"https://ericecmorlaix.github.io/img/CircuitElec-ResistorTensionCourant.svg\" alt=\"CircuitElec-ResistorTensionCourant.svg\" width=80% >"
   ]
  },
  {
   "cell_type": "markdown",
   "metadata": {},
   "source": [
    "<h3 class='fa fa-rocket' style=\"color: tomato\"> A faire vous-même n° 3:</h3>\n",
    "\n",
    "- Expliquer le tracé suivant :\n",
    "\n",
    "<img src=\"https://ericecmorlaix.github.io/img/CircuitElec-ResistorPower.svg\" alt=\"CircuitElec-ResistorPower.svg\" width=80%>\n",
    "\n",
    "\n",
    "...\n",
    "\n",
    "- Quid du carré rouge sur le modèle du résistor R1 ?\n",
    "\n",
    "...\n",
    "\n",
    "- Discuter du rendement d'un tel composant...\n",
    "\n",
    "...\n",
    "\n",
    "<hr style=\"border-color: tomato\">"
   ]
  },
  {
   "cell_type": "markdown",
   "metadata": {},
   "source": [
    "### Lois de Kirchhoff :\n",
    "\n",
    "\n",
    "<hr style=\"border-color: darkorange\">\n",
    "<h3 class='fa fa-cogs' style=\"color: darkorange\"> A faire vous-même n° 4 :</h3>\n",
    "\n",
    "- Modéliser le circuit électrique ci-dessous  :\n",
    "\n",
    "<img src=\"https://ericecmorlaix.github.io/img/CircuitElec-CircuitResistorsSensors.svg\" alt=\"CircuitElec-CircuitResistorsSensors.svg\" width=80%>\n",
    "\n",
    "- Relever l'intensité des courants électriques i, i1, i2, i3 et i4 qui circulent respectivement dans l'alimentation et dans les résistors R1, R2, R3 et R4, ainsi que celle de l'ampèremètre :\n",
    "\n",
    "    i =  \n",
    "\n",
    "    i1 =\n",
    "\n",
    "    i2 =\n",
    "\n",
    "    i3 =\n",
    "\n",
    "    i4 = \n",
    "    \n",
    "    ampèremètre =\n",
    "    \n",
    "<br>\n",
    "\n",
    "- Quelles relations peut-on établir ?\n",
    "\n",
    "...\n",
    "\n",
    "- Comment nomme-t-on cette loi de Kirchhoff ?\n",
    "\n",
    "...\n",
    "\n",
    "- Relever les valeurs des différentes tensions électriques u, u1, u2, u3 et u4 respectivement aux bornes de l'alimentation et des résistors R1, R2, R3 et R4, ainsi que celle du voltmètre :\n",
    "\n",
    "    u =  \n",
    "\n",
    "    u1 =\n",
    "\n",
    "    u2 =\n",
    "\n",
    "    u3 =\n",
    "\n",
    "    u4 =\n",
    "    \n",
    "    voltmètre =\n",
    "    \n",
    "<br>\n",
    "\n",
    "- Quelles relations peut-on établir ?\n",
    "\n",
    "...\n",
    "\n",
    "- Comment nomme-t-on cette loi de Kirchhoff ?\n",
    "\n",
    "...\n",
    "\n",
    "<hr style=\"border-color: darkorange\">\n",
    "\n",
    "\n"
   ]
  },
  {
   "cell_type": "markdown",
   "metadata": {},
   "source": [
    "## Application : Le pont diviseur de tension\n",
    "\n",
    "<img src=\"https://ericecmorlaix.github.io/img/CircuitElec-PontDiviseur.png\" alt=\"CircuitElec-PontDiviseur.png\" width=40%>\n",
    "\n",
    "Le pont diviseur de tension, tel que présenté sur la figure ci-dessus, est un montage très simple qui apparaît fréquemment dans divers montages électroniques, notamment pour le conditionnement des signaux issus de capteurs.\n",
    "\n",
    "Il est utile de maîtriser ce montage et de connaître le théorème associé :\n",
    "\n",
    "$$U = E \\times {R_2 \\over {R_1 + R_2}}$$\n",
    "\n",
    "La tension U ainsi obtenue est une fraction de la tension E, d’où le nom donné à ce montage.\n",
    "\n",
    "<hr style=\"border-color: darkorange\">\n",
    "<h3 class='fa fa-cogs' style=\"color: darkorange\"> A faire vous-même n° 5:</h3>\n",
    "\n",
    "- A partir des différentes lois présentées précédemment, démontrer le théorème du pont diviseur de tension...\n",
    "\n",
    "<hr style=\"border-color: darkorange\">\n",
    "\n",
    "\n",
    "\n",
    "Le théorème donné précédemment pour le pont diviseur de tension n'est valable que si aucune charge extérieure ne vient modifier le montage...\n"
   ]
  },
  {
   "cell_type": "markdown",
   "metadata": {},
   "source": [
    "## Excercices :\n",
    "\n",
    "<img src=\"https://ericecmorlaix.github.io/img/CircuitElec-Exercice_I.png\" alt=\"CircuitElec-Exercice_I.png\" width=90%>\n",
    "\n",
    "<img src=\"https://ericecmorlaix.github.io/img/CircuitElec-Exercice_U.png\" alt=\"CircuitElec-Exercice_U.png\" width=90%>"
   ]
  },
  {
   "cell_type": "markdown",
   "metadata": {},
   "source": [
    "## Références au programme :\n",
    "\n",
    "<style type=\"text/css\">\n",
    ".tg  {border-collapse:collapse;border-spacing:0;}\n",
    ".tg td{font-family:Arial, sans-serif;font-size:14px;padding:10px 5px;border-style:solid;border-width:1px;overflow:hidden;word-break:normal;border-color:black;}\n",
    ".tg th{font-family:Arial, sans-serif;font-size:14px;font-weight:normal;padding:10px 5px;border-style:solid;border-width:1px;overflow:hidden;word-break:normal;border-color:black;}\n",
    ".tg .tg-cv16{font-weight:bold;background-color:#dae8fc;border-color:inherit;text-align:center}\n",
    ".tg .tg-xldj{border-color:inherit;text-align:left}\n",
    "</style>\n",
    "<table class=\"tg\">\n",
    "  <tr>\n",
    "    <th class=\"tg-cv16\">Compétences développées</th>\n",
    "    <th class=\"tg-cv16\">Connaissances associées</th>    \n",
    "  </tr>\n",
    "  <tr>\n",
    "    <td class=\"tg-xldj\">Déterminer les grandeurs flux (courant) et effort (tension) dans un circuit électrique</td>\n",
    "    <td class=\"tg-xldj\">Lois de Kirchhoff<br>Lois de comportement</td>        \n",
    "  </tr>  \n",
    "\n",
    "   \n",
    "  \n",
    "</table>"
   ]
  },
  {
   "cell_type": "markdown",
   "metadata": {
    "slideshow": {
     "slide_type": "-"
    }
   },
   "source": [
    "<a rel=\"license\" href=\"http://creativecommons.org/licenses/by-sa/4.0/\"><img alt=\"Licence Creative Commons\" style=\"border-width:0\" src=\"https://i.creativecommons.org/l/by-sa/4.0/88x31.png\" /></a><br />Ce document est mis à disposition selon les termes de la <a rel=\"license\" href=\"http://creativecommons.org/licenses/by-sa/4.0/\">Licence Creative Commons Attribution -  Partage dans les Mêmes Conditions 4.0 International</a>.\n",
    "\n",
    "Pour toute question, suggestion ou commentaire : <a href=\"mailto:eric.madec@ecmorlaix.fr\">eric.madec@ecmorlaix.fr</a>"
   ]
  }
 ],
 "metadata": {
  "hide_input": false,
  "kernelspec": {
   "display_name": "Python 3",
   "language": "python",
   "name": "python3"
  },
  "language_info": {
   "codemirror_mode": {
    "name": "ipython",
    "version": 3
   },
   "file_extension": ".py",
   "mimetype": "text/x-python",
   "name": "python",
   "nbconvert_exporter": "python",
   "pygments_lexer": "ipython3",
   "version": "3.8.5"
  },
  "toc": {
   "base_numbering": 1,
   "nav_menu": {},
   "number_sections": true,
   "sideBar": true,
   "skip_h1_title": false,
   "title_cell": "Table of Contents",
   "title_sidebar": "Contents",
   "toc_cell": false,
   "toc_position": {},
   "toc_section_display": true,
   "toc_window_display": false
  },
  "varInspector": {
   "cols": {
    "lenName": 16,
    "lenType": 16,
    "lenVar": 40
   },
   "kernels_config": {
    "python": {
     "delete_cmd_postfix": "",
     "delete_cmd_prefix": "del ",
     "library": "var_list.py",
     "varRefreshCmd": "print(var_dic_list())"
    },
    "r": {
     "delete_cmd_postfix": ") ",
     "delete_cmd_prefix": "rm(",
     "library": "var_list.r",
     "varRefreshCmd": "cat(var_dic_list()) "
    }
   },
   "types_to_exclude": [
    "module",
    "function",
    "builtin_function_or_method",
    "instance",
    "_Feature"
   ],
   "window_display": false
  }
 },
 "nbformat": 4,
 "nbformat_minor": 2
}
