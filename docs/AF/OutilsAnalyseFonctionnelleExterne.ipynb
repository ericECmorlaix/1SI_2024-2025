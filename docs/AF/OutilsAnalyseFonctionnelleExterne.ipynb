{
 "cells": [
  {
   "cell_type": "markdown",
   "source": [
    "# Outils pour l'analyse fonctionnelle du besoin"
   ],
   "metadata": {
    "slideshow": {
     "slide_type": "slide"
    }
   }
  },
  {
   "cell_type": "markdown",
   "source": [
    "L’analyse fonctionnelle du besoin (NFX50-150) ou la description fonctionnelle est une démarche qui s’applique à la création ou à l’amélioration d’un produit. C'est la phase initiale du processus d'ingénierie système. Elle se présente le plus souvent sous forme de graphes ou diagrammes d’analyse.\n",
    "\n",
    "De l'émergence d'un besoin (explicite ou implicite) à l'établissment du cahier des charges fonctionnel, les outils et méthodes d’analyse fonctionnelle sont nombreux... "
   ],
   "metadata": {}
  },
  {
   "cell_type": "markdown",
   "source": [
    "## Méthode ApTE :\r\n",
    "Les outils de la méthode ApTE vu au collège permettent :\r\n",
    "- de définir le besoin : le diagramme bête à corne ;\r\n",
    "\r\n",
    "<img src=\"https://ericecmorlaix.github.io/img/ApTE-BeteACornes.png\" alt=\"ApTE-BeteACornes\" width=40%>\r\n",
    "\r\n",
    "- d'énumérer les fonctions de service principales et de contraintes : le diagramme pieuvre ;\r\n",
    "\r\n",
    "<img src=\"https://ericecmorlaix.github.io/img/ApTE-Pieuvre.png\" alt=\"ApTE-Pieuvre\" width=60%>\r\n",
    "\r\n",
    "- puis de caractériser chacune de ces fonctions en précisant leurs critères d'appréciation et leur niveau d'exigence ainsi qu'une tolérance de flexibilité pour définir le cahier des charges fonctionnel (CdCF) :\r\n",
    "\r\n",
    "<img src=\"https://ericecmorlaix.github.io/img/ApTE-CdCF.png\" alt=\"ApTE-CdCF\" width=60%>\r\n"
   ],
   "metadata": {}
  },
  {
   "cell_type": "markdown",
   "source": [
    "## SysML :\r\n",
    "\r\n",
    "Le Langage de Modélisation Unifié, de l'anglais Unified Modeling Language (**UML**), est un langage de modélisation graphique à base de pictogrammes conçu pour fournir une méthode normalisée pour visualiser la conception d'un projet informatique. Il est couramment utilisé en développement logiciel et en programmation orientée objet.\r\n",
    "\r\n",
    "**SysML** (System Modeling Language) est un dérivé d'**UML**, simplifié et adapté à l'ingénierie des systèmes.\r\n",
    "\r\n",
    "La complexité des systèmes techniques est telle que, sans outils de représentations abstraites et progressivement enrichies, les intervenants d’un projet auraient de nombreuses difficultés à se comprendre et à partager les tâches.\r\n",
    "\r\n",
    "**SysML** s'articule autour de 9 diagrammes dédiés à la représentation de concepts particuliers d'un système.\r\n",
    "<a href=\"https://commons.wikimedia.org/wiki/File:Sysml_diagrams_collage.jpg#/media/Fichier:Sysml_diagrams_collage.jpg\"><img src=\"https://upload.wikimedia.org/wikipedia/commons/1/11/Sysml_diagrams_collage.jpg\" alt=\"Sysml diagrams collage.jpg\" width=60%></a>\r\n",
    "\r\n",
    "Certains de ces diagrammes permettent la description fonctionnelle d'un système (ce que doit faire le système) :\r\n",
    "\r\n",
    "- Le diagramme des cas d'utilisation (UCD) :\r\n",
    "\r\n",
    "Il permet d'avoir une vision fonctionnelle globale. Il montre les interactions fonctionnelles des acteurs et du système d’étude. Il délimite précisément le système, décrit ce que fera le système sans spécifier comment (et non ce que fera l’utilisateur). Il exprime les services (use cases) offert par le système aux utilisateurs (actors).\r\n",
    "\r\n",
    "<a href=\"https://ericecmorlaix.github.io/pdf/SysML-Utilisation.pdf\"><img src=\"https://ericecmorlaix.github.io/img/SysML-utilisation.png\" alt=\"SysML-utilisation\" width=80%></a>\r\n",
    "\r\n",
    "- Le diagramme d'exigences (RD) :\r\n",
    "\r\n",
    "Il décrit les exigences du cahier des charges fonctionnel. Une exigence exprime une capacité ou une contrainte à satisfaire\r\n",
    "par un système.\r\n",
    "\r\n",
    "<a href=\"https://ericecmorlaix.github.io/pdf/SysML-Exigences.pdf\"><img src=\"https://ericecmorlaix.github.io/img/SysML-exigences.png\" alt=\"SysML-exigences\" width=80%></a>\r\n",
    "\r\n",
    "\r\n",
    "- Un diagramme de contexte :\r\n",
    "\r\n",
    "Il complète éventuellement la description fonctionnelle en présentant tous les éléments externes qui influencent le système étudié et le système lui même.\r\n"
   ],
   "metadata": {}
  },
  {
   "cell_type": "markdown",
   "source": [
    "### Activités :\r\n",
    "\r\n",
    "1. Regarder la vidéo [BouilloireElectriqueSysMl.mp4](https://ericecmorlaix.github.io/vid/BouilloireElectriqueSysMl.mp4) jusqu'au diagramme de définition de blocs.\r\n",
    "\r\n",
    "1. Sur PC dans le navigateur Chrome ajouter l'extension [draw io](https://chrome.google.com/webstore/detail/drawio-diagrams/onlkggianjhjenigcpigpjehhpplldkc?hl=fr) (OU sur tablette avec l'application du même nom), démarrer un nouveau document, ajouter la palette d'outils SysML...\r\n",
    "\r\n",
    "1. Reproduire le diagramme des cas d'utilisation de la bouilloire puis l'insérer dans la cellule ci-dessous :"
   ],
   "metadata": {}
  },
  {
   "cell_type": "raw",
   "source": [
    "Insérer ici votre image en markdown..."
   ],
   "metadata": {}
  },
  {
   "cell_type": "markdown",
   "source": [
    "4. Réaliser un diagramme de contexte pour le projecteur scénique puis l'insérer dans la cellule ci-dessous :"
   ],
   "metadata": {}
  },
  {
   "cell_type": "raw",
   "source": [
    "Insérer ici votre image en markdown..."
   ],
   "metadata": {}
  },
  {
   "cell_type": "markdown",
   "source": [
    "## Ressources :\n",
    "- https://fr.wikipedia.org/wiki/Systems_Modeling_Language\n",
    "- https://sysml.org/\n",
    "- http://www.siloged.fr/cours/STI2D_sysml/index.html\n",
    "- https://uml.developpez.com/cours/Modelisation-SysML/\n",
    "- http://jpcad64.free.fr/Pedalite/ \n",
    "\n",
    "### Logiciels d'édition :\n",
    "- https://about.draw.io/\n",
    "- https://www.websequencediagrams.com/\n",
    "- https://www.nomagic.com/products/magicdraw"
   ],
   "metadata": {}
  },
  {
   "cell_type": "markdown",
   "source": [
    "## Références au programme :\n",
    "\n",
    "<style type=\"text/css\">\n",
    ".tg  {border-collapse:collapse;border-spacing:0;}\n",
    ".tg td{font-family:Arial, sans-serif;font-size:14px;padding:10px 5px;border-style:solid;border-width:1px;overflow:hidden;word-break:normal;border-color:black;}\n",
    ".tg th{font-family:Arial, sans-serif;font-size:14px;font-weight:normal;padding:10px 5px;border-style:solid;border-width:1px;overflow:hidden;word-break:normal;border-color:black;}\n",
    ".tg .tg-cv16{font-weight:bold;background-color:#dae8fc;border-color:inherit;text-align:center}\n",
    ".tg .tg-xldj{border-color:inherit;text-align:left}\n",
    "</style>\n",
    "<table class=\"tg\">\n",
    "  <tr>\n",
    "    <th class=\"tg-cv16\">Compétences développées</th>\n",
    "    <th class=\"tg-cv16\">Connaissances associées</th>\n",
    "    <th class=\"tg-cv16\">Contexte</th>\n",
    "  </tr>\n",
    "  <tr>\n",
    "    <td class=\"tg-xldj\">Analyser le besoin, l’organisation matérielle et fonctionnelle d’un produit par une démarche  d’ingénierie système</td>\n",
    "    <td class=\"tg-xldj\">Outils d’ingénierie-système : diagrammes fonctionnels, définition des exigences et des \n",
    "critères associés, cas d’utilisations, analyse structurelle</td>\n",
    "    <td class=\"tg-xldj\">L’outil d’ingénierie système actuellement proposé est le SysML. L’enseignement des outils\n",
    "de description de type SysML n’est pas une finalité et doit se limiter aux bases strictement\n",
    "nécessaires.</td>\n",
    "  </tr>\n",
    "</table>"
   ],
   "metadata": {}
  },
  {
   "cell_type": "markdown",
   "source": [
    "<a rel=\"license\" href=\"http://creativecommons.org/licenses/by-sa/4.0/\"><img alt=\"Licence Creative Commons\" style=\"border-width:0\" src=\"https://i.creativecommons.org/l/by-sa/4.0/88x31.png\" /></a><br />Ce document est mis à disposition selon les termes de la <a rel=\"license\" href=\"http://creativecommons.org/licenses/by-sa/4.0/\">Licence Creative Commons Attribution -  Partage dans les Mêmes Conditions 4.0 International</a>.\n",
    "\n",
    "Pour toute question, suggestion ou commentaire : <a href=\"mailto:eric.madec@ecmorlaix.fr\">eric.madec@ecmorlaix.fr</a>"
   ],
   "metadata": {
    "slideshow": {
     "slide_type": "-"
    }
   }
  }
 ],
 "metadata": {
  "hide_input": false,
  "kernelspec": {
   "display_name": "Python 3",
   "language": "python",
   "name": "python3"
  },
  "language_info": {
   "codemirror_mode": {
    "name": "ipython",
    "version": 3
   },
   "file_extension": ".py",
   "mimetype": "text/x-python",
   "name": "python",
   "nbconvert_exporter": "python",
   "pygments_lexer": "ipython3",
   "version": "3.7.3"
  },
  "toc": {
   "base_numbering": 1,
   "nav_menu": {},
   "number_sections": true,
   "sideBar": true,
   "skip_h1_title": false,
   "title_cell": "Table of Contents",
   "title_sidebar": "Contents",
   "toc_cell": false,
   "toc_position": {},
   "toc_section_display": true,
   "toc_window_display": false
  },
  "varInspector": {
   "cols": {
    "lenName": 16,
    "lenType": 16,
    "lenVar": 40
   },
   "kernels_config": {
    "python": {
     "delete_cmd_postfix": "",
     "delete_cmd_prefix": "del ",
     "library": "var_list.py",
     "varRefreshCmd": "print(var_dic_list())"
    },
    "r": {
     "delete_cmd_postfix": ") ",
     "delete_cmd_prefix": "rm(",
     "library": "var_list.r",
     "varRefreshCmd": "cat(var_dic_list()) "
    }
   },
   "types_to_exclude": [
    "module",
    "function",
    "builtin_function_or_method",
    "instance",
    "_Feature"
   ],
   "window_display": false
  }
 },
 "nbformat": 4,
 "nbformat_minor": 2
}