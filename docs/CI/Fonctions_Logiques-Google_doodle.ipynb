{
 "cells": [
  {
   "cell_type": "markdown",
   "metadata": {},
   "source": [
    "## Fonctions Logiques - Exercice d'introduction - Google Doodle"
   ]
  },
  {
   "cell_type": "markdown",
   "metadata": {},
   "source": [
    "<h3 class='fa fa-graduation-cap' style=\"color: purple\">  <strong>Répondre</strong> aux questions suivantes :</h3>\n",
    "\n",
    "A qui Google rendait hommage le 2 novembre 2015 en mettant sur la page d'accueil de son moteur de recherche le doodle ci-dessous ?\n",
    "\n",
    "<br>\n",
    "<img  src=\"https://ericecmorlaix.github.io/img/doodle_George.gif\" alt=\"doodle_George\">\n",
    "<br>\n",
    "\n",
    "Indice : lorsque l'on cliquait sur l'image, cela ouvrait [cette page de résultats de recherche...](https://www.google.fr/search?q=George+Boole&oi=ddle&ct=george-booles-200th-birthday-5636122663190528&hl=fr)\n",
    "\n",
    "\n",
    "Quelles étaient les raisons de cet hommage rendu par Google ?\n",
    "\n",
    "> .......................................................\n",
    "\n",
    "Qu'est-ce qu'une variable booléenne ?\n",
    "\n",
    "> .......................................................\n",
    "\n",
    "Qu'elles sont les principales fonctions (opérations) booléennes ?\n",
    "\n",
    "> .......................................................\n",
    "\n",
    "Expliquer en observant le gif animé du doodle ci-dessus, les conditions pour que :\n",
    "\n",
    "- le G s'allume en bleu  :\n",
    "\n",
    "> .......................................................\n",
    "\n",
    "- le deuxième o s'allume en jaune :\n",
    "\n",
    "> .......................................................\n",
    "\n",
    "- le l s'allume en vert :\n",
    "\n",
    "> .......................................................\n",
    "\n",
    "- le e s'allume en rouge :\n",
    "\n",
    "> .......................................................\n",
    "\n",
    "- le premier o s'allume en rouge :\n",
    "\n",
    "> .......................................................\n",
    "\n"
   ]
  }
 ],
 "metadata": {
  "kernelspec": {
   "display_name": "Python 3.10.1 64-bit",
   "language": "python",
   "name": "python3"
  },
  "language_info": {
   "name": "python",
   "version": "3.10.1"
  },
  "orig_nbformat": 4,
  "vscode": {
   "interpreter": {
    "hash": "c813da0d88532624e95401f841607d640ef6d724b81c00ab0d0885f617a921c3"
   }
  }
 },
 "nbformat": 4,
 "nbformat_minor": 2
}
