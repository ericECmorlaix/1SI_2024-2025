{
 "cells": [
  {
   "cell_type": "markdown",
   "metadata": {},
   "source": [
    "# Fonctions Logiques - Lève Vitre électrique\n",
    "\n",
    "Développer une logique de commande d'un lève vitre de voiture en faisant évoluer le cahier des charges fonctionel tel que :\n",
    "\n",
    "- **cdcf_1 : Commande combinatoire de la vitre du coté chauffeur :**\n",
    "    \n",
    "    Lorsque le chauffeur soulève le bouton de commande (entrée bpmc) cela doit provoquer la montée (sortie M) de la vitre par l’intermédiaire d’un motoréducteur, et lorsqu’il appuie sur ce même bouton (entrée bpdc) cela doit provoquer la descente (sortie D) de la vitre.\n",
    "    \n",
    "    La montée comme la descente doivent s’arrêter lorsque la vitre arrive en fin de course (entrée fdc).\n",
    "    \n",
    "\n",
    "- **cdcf_2 : Commande combinatoire de la vitre du coté passager :**\n",
    "    \n",
    "    Lorsque le passager soulève le bouton de commande (entrée bpmp) cela doit provoquer la montée (sortie M) de la vitre par l’intermédiaire d’un motoréducteur, et lorsqu’il appuie sur ce même bouton (entrée bpdp) cela doit provoquer la descente (sortie D) de la vitre.\n",
    "    La vitre du coté passager doit également pouvoir être commandée depuis le coté chauffeur par les entrées bpmc et bpdc.\n",
    "    \n",
    "    La montée comme la descente doivent s’arrêter lorsque la vitre arrive en fin de course (entrée fdc).\n",
    "    \n",
    "\n",
    "- **cdcf_3 : Commande séquentielle de la vitre du coté passager :**\n",
    "    \n",
    "    Lorsque le passager soulève le bouton de commande (entrée bpmp), la vitre doit monter (sortie M).\n",
    "    \n",
    "    S’il relâche le bouton, alors la vitre continue de monter jusqu’à ce quelle arrive en fin de course (entrée fdc).\n",
    "    \n",
    "    Lorsqu’il appuie sur ce même bouton (entrée bpdp), la vitre doit descendre (sortie D) jusqu’à sa fin de course…\n",
    "    \n",
    "\n",
    "- **cdcf_4 : Imaginer votre propre évolution du fonctionnement et le mettre en oeuvre**\n",
    "\n",
    "**Dans chaque cas :**\n",
    "\n",
    "- Ecrire les équations logiques de commande pour la Montée et la Descente ;\n",
    "- Simuler sur [Capytale n° 513c-4629553 ](https://capytale2.ac-paris.fr/web/c/513c-4629553) et vérifier le fonctionnement prévu ;\n",
    "- Simuler sur [BBC micro:bit](https://ericecmorlaix.github.io/adn-Tutoriel_lab_si/IOT/BBC_microbit/) et vérifier le fonctionnement prévu ;\n",
    "- Expérimenter vos codes sur le système réel du laboratoire...\n",
    "\n",
    "<hr>"
   ]
  },
  {
   "cell_type": "markdown",
   "metadata": {},
   "source": [
    "## cdcf_1 : Commande combinatoire de la vitre du coté chauffeur\n",
    "\n",
    "Equations logiques :\n",
    "\n",
    "$ M = $\n",
    "\n",
    "$ D = $\n",
    "\n",
    "Logigramme :"
   ]
  },
  {
   "cell_type": "code",
   "execution_count": null,
   "metadata": {},
   "outputs": [],
   "source": [
    "# Programme BBC micro:bit"
   ]
  },
  {
   "cell_type": "markdown",
   "metadata": {},
   "source": [
    "## cdcf_2 : Commande combinatoire de la vitre du coté passager\n",
    "\n",
    "Equations logiques :\n",
    "\n",
    "$ M = $\n",
    "\n",
    "$ D = $\n",
    "\n",
    "Logigramme :"
   ]
  },
  {
   "cell_type": "code",
   "execution_count": null,
   "metadata": {},
   "outputs": [],
   "source": [
    "# Programme BBC micro:bit"
   ]
  },
  {
   "cell_type": "markdown",
   "metadata": {},
   "source": [
    "## cdcf_3 : Commande séquentielle de la vitre du coté passager\n",
    "\n",
    "Equations logiques :\n",
    "\n",
    "$ M = $\n",
    "\n",
    "$ D = $\n",
    "\n",
    "Logigramme :"
   ]
  },
  {
   "cell_type": "code",
   "execution_count": null,
   "metadata": {},
   "outputs": [],
   "source": [
    "# Programme BBC micro:bit"
   ]
  }
 ],
 "metadata": {
  "kernelspec": {
   "display_name": "Python 3",
   "language": "python",
   "name": "python3"
  },
  "language_info": {
   "codemirror_mode": {
    "name": "ipython",
    "version": 3
   },
   "file_extension": ".py",
   "mimetype": "text/x-python",
   "name": "python",
   "nbconvert_exporter": "python",
   "pygments_lexer": "ipython3",
   "version": "3.10.1"
  },
  "orig_nbformat": 4
 },
 "nbformat": 4,
 "nbformat_minor": 2
}
